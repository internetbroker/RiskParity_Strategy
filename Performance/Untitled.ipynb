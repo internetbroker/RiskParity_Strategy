{
 "cells": [
  {
   "cell_type": "code",
   "execution_count": 30,
   "metadata": {},
   "outputs": [],
   "source": [
    "import sys\n",
    "sys.path.append('C:/Users/Win 10/AppData/Local/Programs/Python/Python37-32/Lib/site-packages')"
   ]
  },
  {
   "cell_type": "code",
   "execution_count": 31,
   "metadata": {},
   "outputs": [],
   "source": [
    "import pandas as pd\n",
    "import pyfolio as pf\n",
    "from pyfolio import plotting"
   ]
  },
  {
   "cell_type": "code",
   "execution_count": 32,
   "metadata": {},
   "outputs": [],
   "source": [
    "returns = pd.read_csv('returns.csv',header=None, index_col=0)\n",
    "positions = pd.read_csv('positions.csv', index_col='Datetime')\n",
    "transactions = pd.read_csv('transactions.csv', index_col='date')"
   ]
  },
  {
   "cell_type": "code",
   "execution_count": 33,
   "metadata": {},
   "outputs": [],
   "source": [
    "returns.index.names = ['index']\n",
    "returns = returns.iloc[:,0]\n",
    "returns = returns.rename('return')\n",
    "returns.index = pd.to_datetime(returns.index).tz_convert('UTC')#.strftime('%Y-%m-%dT%H:%M:%S.%f')\n",
    "returns.dropna(inplace=True)\n",
    "returns = returns[returns!=0]"
   ]
  },
  {
   "cell_type": "code",
   "execution_count": 34,
   "metadata": {},
   "outputs": [
    {
     "data": {
      "text/plain": [
       "index\n",
       "2012-10-22 00:00:00+00:00   -0.004529\n",
       "2012-10-23 00:00:00+00:00    0.002611\n",
       "2012-10-24 00:00:00+00:00   -0.005667\n",
       "2012-10-25 00:00:00+00:00   -0.020465\n",
       "2012-10-26 00:00:00+00:00    0.006734\n",
       "2012-10-29 00:00:00+00:00   -0.009505\n",
       "2012-10-30 00:00:00+00:00    0.001761\n",
       "2012-10-31 00:00:00+00:00   -0.002063\n",
       "2012-11-01 00:00:00+00:00    0.008886\n",
       "2012-11-02 00:00:00+00:00   -0.037070\n",
       "2012-11-05 00:00:00+00:00   -0.000323\n",
       "2012-11-06 00:00:00+00:00   -0.003171\n",
       "2012-11-07 00:00:00+00:00   -0.000355\n",
       "2012-11-08 00:00:00+00:00   -0.004693\n",
       "2012-11-09 00:00:00+00:00    0.000465\n",
       "2012-11-12 00:00:00+00:00    0.005140\n",
       "2012-11-13 00:00:00+00:00   -0.008455\n",
       "2012-11-14 00:00:00+00:00    0.022773\n",
       "2012-11-15 00:00:00+00:00   -0.005238\n",
       "2012-11-16 00:00:00+00:00   -0.002053\n",
       "2012-11-19 00:00:00+00:00   -0.004763\n",
       "2012-11-20 00:00:00+00:00    0.004376\n",
       "2012-11-21 00:00:00+00:00    0.009966\n",
       "2012-11-22 00:00:00+00:00   -0.002858\n",
       "2012-11-23 00:00:00+00:00    0.006737\n",
       "2012-11-26 00:00:00+00:00   -0.004735\n",
       "2012-11-27 00:00:00+00:00    0.001484\n",
       "2012-11-28 00:00:00+00:00   -0.000846\n",
       "2012-11-29 00:00:00+00:00   -0.010448\n",
       "2012-11-30 00:00:00+00:00   -0.002958\n",
       "                               ...   \n",
       "2019-10-29 00:00:00+00:00   -0.001331\n",
       "2019-10-30 00:00:00+00:00    0.001638\n",
       "2019-10-31 00:00:00+00:00   -0.008320\n",
       "2019-11-01 00:00:00+00:00    0.006260\n",
       "2019-11-04 00:00:00+00:00    0.004343\n",
       "2019-11-05 00:00:00+00:00    0.003715\n",
       "2019-11-06 00:00:00+00:00    0.001144\n",
       "2019-11-07 00:00:00+00:00    0.000672\n",
       "2019-11-08 00:00:00+00:00    0.003540\n",
       "2019-11-11 00:00:00+00:00   -0.001153\n",
       "2019-11-12 00:00:00+00:00    0.004877\n",
       "2019-11-13 00:00:00+00:00   -0.001507\n",
       "2019-11-14 00:00:00+00:00   -0.002858\n",
       "2019-11-15 00:00:00+00:00   -0.004798\n",
       "2019-11-18 00:00:00+00:00   -0.002441\n",
       "2019-11-19 00:00:00+00:00    0.003873\n",
       "2019-11-20 00:00:00+00:00   -0.007326\n",
       "2019-11-21 00:00:00+00:00   -0.006233\n",
       "2019-11-22 00:00:00+00:00   -0.013119\n",
       "2019-11-25 00:00:00+00:00    0.002318\n",
       "2019-11-26 00:00:00+00:00    0.004818\n",
       "2019-11-27 00:00:00+00:00    0.000358\n",
       "2019-11-28 00:00:00+00:00   -0.001057\n",
       "2019-11-29 00:00:00+00:00    0.003380\n",
       "2019-12-02 00:00:00+00:00   -0.002161\n",
       "2019-12-03 00:00:00+00:00    0.005179\n",
       "2019-12-04 00:00:00+00:00    0.012003\n",
       "2019-12-05 00:00:00+00:00    0.001399\n",
       "2019-12-06 00:00:00+00:00    0.002697\n",
       "2019-12-09 00:00:00+00:00    0.002632\n",
       "Name: return, Length: 1781, dtype: float64"
      ]
     },
     "execution_count": 34,
     "metadata": {},
     "output_type": "execute_result"
    }
   ],
   "source": [
    "returns"
   ]
  },
  {
   "cell_type": "code",
   "execution_count": 35,
   "metadata": {},
   "outputs": [
    {
     "data": {
      "text/plain": [
       "index\n",
       "2012-10-22 00:00:00+00:00   -0.005661\n",
       "2012-10-23 00:00:00+00:00    0.003263\n",
       "2012-10-24 00:00:00+00:00   -0.007084\n",
       "2012-10-25 00:00:00+00:00   -0.025581\n",
       "2012-10-26 00:00:00+00:00    0.008418\n",
       "2012-10-29 00:00:00+00:00   -0.011881\n",
       "2012-10-30 00:00:00+00:00    0.002201\n",
       "2012-10-31 00:00:00+00:00   -0.002579\n",
       "2012-11-01 00:00:00+00:00    0.011108\n",
       "2012-11-02 00:00:00+00:00   -0.046337\n",
       "2012-11-05 00:00:00+00:00   -0.000404\n",
       "2012-11-06 00:00:00+00:00   -0.003964\n",
       "2012-11-07 00:00:00+00:00   -0.000443\n",
       "2012-11-08 00:00:00+00:00   -0.005866\n",
       "2012-11-09 00:00:00+00:00    0.000582\n",
       "2012-11-12 00:00:00+00:00    0.006425\n",
       "2012-11-13 00:00:00+00:00   -0.010568\n",
       "2012-11-14 00:00:00+00:00    0.028467\n",
       "2012-11-15 00:00:00+00:00   -0.006547\n",
       "2012-11-16 00:00:00+00:00   -0.002566\n",
       "2012-11-19 00:00:00+00:00   -0.005954\n",
       "2012-11-20 00:00:00+00:00    0.005470\n",
       "2012-11-21 00:00:00+00:00    0.012458\n",
       "2012-11-22 00:00:00+00:00   -0.003573\n",
       "2012-11-23 00:00:00+00:00    0.008422\n",
       "2012-11-26 00:00:00+00:00   -0.005918\n",
       "2012-11-27 00:00:00+00:00    0.001855\n",
       "2012-11-28 00:00:00+00:00   -0.001057\n",
       "2012-11-29 00:00:00+00:00   -0.013060\n",
       "2012-11-30 00:00:00+00:00   -0.003698\n",
       "                               ...   \n",
       "2019-10-29 00:00:00+00:00   -0.001663\n",
       "2019-10-30 00:00:00+00:00    0.002048\n",
       "2019-10-31 00:00:00+00:00   -0.010400\n",
       "2019-11-01 00:00:00+00:00    0.007825\n",
       "2019-11-04 00:00:00+00:00    0.005429\n",
       "2019-11-05 00:00:00+00:00    0.004644\n",
       "2019-11-06 00:00:00+00:00    0.001430\n",
       "2019-11-07 00:00:00+00:00    0.000840\n",
       "2019-11-08 00:00:00+00:00    0.004425\n",
       "2019-11-11 00:00:00+00:00   -0.001442\n",
       "2019-11-12 00:00:00+00:00    0.006096\n",
       "2019-11-13 00:00:00+00:00   -0.001883\n",
       "2019-11-14 00:00:00+00:00   -0.003572\n",
       "2019-11-15 00:00:00+00:00   -0.005997\n",
       "2019-11-18 00:00:00+00:00   -0.003051\n",
       "2019-11-19 00:00:00+00:00    0.004841\n",
       "2019-11-20 00:00:00+00:00   -0.009158\n",
       "2019-11-21 00:00:00+00:00   -0.007791\n",
       "2019-11-22 00:00:00+00:00   -0.016399\n",
       "2019-11-25 00:00:00+00:00    0.002897\n",
       "2019-11-26 00:00:00+00:00    0.006023\n",
       "2019-11-27 00:00:00+00:00    0.000448\n",
       "2019-11-28 00:00:00+00:00   -0.001322\n",
       "2019-11-29 00:00:00+00:00    0.004225\n",
       "2019-12-02 00:00:00+00:00   -0.002701\n",
       "2019-12-03 00:00:00+00:00    0.006474\n",
       "2019-12-04 00:00:00+00:00    0.015003\n",
       "2019-12-05 00:00:00+00:00    0.001749\n",
       "2019-12-06 00:00:00+00:00    0.003371\n",
       "2019-12-09 00:00:00+00:00    0.003290\n",
       "Name: return, Length: 1781, dtype: float64"
      ]
     },
     "execution_count": 35,
     "metadata": {},
     "output_type": "execute_result"
    }
   ],
   "source": [
    "returns = returns/0.8\n",
    "returns"
   ]
  },
  {
   "cell_type": "code",
   "execution_count": 36,
   "metadata": {},
   "outputs": [],
   "source": [
    "try:\n",
    "    transactions = transactions.index.name = None\n",
    "except:\n",
    "    pass"
   ]
  },
  {
   "cell_type": "code",
   "execution_count": null,
   "metadata": {},
   "outputs": [],
   "source": []
  },
  {
   "cell_type": "code",
   "execution_count": 37,
   "metadata": {},
   "outputs": [],
   "source": [
    "transactions"
   ]
  },
  {
   "cell_type": "code",
   "execution_count": 38,
   "metadata": {},
   "outputs": [
    {
     "data": {
      "text/plain": [
       "pandas.core.indexes.datetimes.DatetimeIndex"
      ]
     },
     "execution_count": 38,
     "metadata": {},
     "output_type": "execute_result"
    }
   ],
   "source": [
    "type(returns.index)"
   ]
  },
  {
   "cell_type": "code",
   "execution_count": 39,
   "metadata": {},
   "outputs": [
    {
     "data": {
      "text/plain": [
       "index\n",
       "2012-10-22 00:00:00+00:00   -0.005661\n",
       "2012-10-23 00:00:00+00:00    0.003263\n",
       "2012-10-24 00:00:00+00:00   -0.007084\n",
       "2012-10-25 00:00:00+00:00   -0.025581\n",
       "2012-10-26 00:00:00+00:00    0.008418\n",
       "2012-10-29 00:00:00+00:00   -0.011881\n",
       "2012-10-30 00:00:00+00:00    0.002201\n",
       "2012-10-31 00:00:00+00:00   -0.002579\n",
       "2012-11-01 00:00:00+00:00    0.011108\n",
       "2012-11-02 00:00:00+00:00   -0.046337\n",
       "2012-11-05 00:00:00+00:00   -0.000404\n",
       "2012-11-06 00:00:00+00:00   -0.003964\n",
       "2012-11-07 00:00:00+00:00   -0.000443\n",
       "2012-11-08 00:00:00+00:00   -0.005866\n",
       "2012-11-09 00:00:00+00:00    0.000582\n",
       "2012-11-12 00:00:00+00:00    0.006425\n",
       "2012-11-13 00:00:00+00:00   -0.010568\n",
       "2012-11-14 00:00:00+00:00    0.028467\n",
       "2012-11-15 00:00:00+00:00   -0.006547\n",
       "2012-11-16 00:00:00+00:00   -0.002566\n",
       "2012-11-19 00:00:00+00:00   -0.005954\n",
       "2012-11-20 00:00:00+00:00    0.005470\n",
       "2012-11-21 00:00:00+00:00    0.012458\n",
       "2012-11-22 00:00:00+00:00   -0.003573\n",
       "2012-11-23 00:00:00+00:00    0.008422\n",
       "2012-11-26 00:00:00+00:00   -0.005918\n",
       "2012-11-27 00:00:00+00:00    0.001855\n",
       "2012-11-28 00:00:00+00:00   -0.001057\n",
       "2012-11-29 00:00:00+00:00   -0.013060\n",
       "2012-11-30 00:00:00+00:00   -0.003698\n",
       "                               ...   \n",
       "2019-10-29 00:00:00+00:00   -0.001663\n",
       "2019-10-30 00:00:00+00:00    0.002048\n",
       "2019-10-31 00:00:00+00:00   -0.010400\n",
       "2019-11-01 00:00:00+00:00    0.007825\n",
       "2019-11-04 00:00:00+00:00    0.005429\n",
       "2019-11-05 00:00:00+00:00    0.004644\n",
       "2019-11-06 00:00:00+00:00    0.001430\n",
       "2019-11-07 00:00:00+00:00    0.000840\n",
       "2019-11-08 00:00:00+00:00    0.004425\n",
       "2019-11-11 00:00:00+00:00   -0.001442\n",
       "2019-11-12 00:00:00+00:00    0.006096\n",
       "2019-11-13 00:00:00+00:00   -0.001883\n",
       "2019-11-14 00:00:00+00:00   -0.003572\n",
       "2019-11-15 00:00:00+00:00   -0.005997\n",
       "2019-11-18 00:00:00+00:00   -0.003051\n",
       "2019-11-19 00:00:00+00:00    0.004841\n",
       "2019-11-20 00:00:00+00:00   -0.009158\n",
       "2019-11-21 00:00:00+00:00   -0.007791\n",
       "2019-11-22 00:00:00+00:00   -0.016399\n",
       "2019-11-25 00:00:00+00:00    0.002897\n",
       "2019-11-26 00:00:00+00:00    0.006023\n",
       "2019-11-27 00:00:00+00:00    0.000448\n",
       "2019-11-28 00:00:00+00:00   -0.001322\n",
       "2019-11-29 00:00:00+00:00    0.004225\n",
       "2019-12-02 00:00:00+00:00   -0.002701\n",
       "2019-12-03 00:00:00+00:00    0.006474\n",
       "2019-12-04 00:00:00+00:00    0.015003\n",
       "2019-12-05 00:00:00+00:00    0.001749\n",
       "2019-12-06 00:00:00+00:00    0.003371\n",
       "2019-12-09 00:00:00+00:00    0.003290\n",
       "Name: return, Length: 1781, dtype: float64"
      ]
     },
     "execution_count": 39,
     "metadata": {},
     "output_type": "execute_result"
    }
   ],
   "source": [
    "returns"
   ]
  },
  {
   "cell_type": "code",
   "execution_count": 40,
   "metadata": {},
   "outputs": [
    {
     "data": {
      "text/html": [
       "<table border=\"1\" class=\"dataframe\">\n",
       "  <thead>\n",
       "    <tr style=\"text-align: right;\"><th>Start date</th><td colspan=2>2012-10-22</td></tr>\n",
       "    <tr style=\"text-align: right;\"><th>End date</th><td colspan=2>2019-12-09</td></tr>\n",
       "    <tr style=\"text-align: right;\"><th>Total months</th><td colspan=2>84</td></tr>\n",
       "    <tr style=\"text-align: right;\">\n",
       "      <th></th>\n",
       "      <th>Backtest</th>\n",
       "    </tr>\n",
       "  </thead>\n",
       "  <tbody>\n",
       "    <tr>\n",
       "      <th>Annual return</th>\n",
       "      <td>35.1%</td>\n",
       "    </tr>\n",
       "    <tr>\n",
       "      <th>Cumulative returns</th>\n",
       "      <td>738.3%</td>\n",
       "    </tr>\n",
       "    <tr>\n",
       "      <th>Annual volatility</th>\n",
       "      <td>16.4%</td>\n",
       "    </tr>\n",
       "    <tr>\n",
       "      <th>Sharpe ratio</th>\n",
       "      <td>1.92</td>\n",
       "    </tr>\n",
       "    <tr>\n",
       "      <th>Calmar ratio</th>\n",
       "      <td>2.02</td>\n",
       "    </tr>\n",
       "    <tr>\n",
       "      <th>Stability</th>\n",
       "      <td>0.98</td>\n",
       "    </tr>\n",
       "    <tr>\n",
       "      <th>Max drawdown</th>\n",
       "      <td>-17.4%</td>\n",
       "    </tr>\n",
       "    <tr>\n",
       "      <th>Omega ratio</th>\n",
       "      <td>1.38</td>\n",
       "    </tr>\n",
       "    <tr>\n",
       "      <th>Sortino ratio</th>\n",
       "      <td>2.77</td>\n",
       "    </tr>\n",
       "    <tr>\n",
       "      <th>Skew</th>\n",
       "      <td>-0.61</td>\n",
       "    </tr>\n",
       "    <tr>\n",
       "      <th>Kurtosis</th>\n",
       "      <td>1.85</td>\n",
       "    </tr>\n",
       "    <tr>\n",
       "      <th>Tail ratio</th>\n",
       "      <td>1.08</td>\n",
       "    </tr>\n",
       "    <tr>\n",
       "      <th>Daily value at risk</th>\n",
       "      <td>-1.9%</td>\n",
       "    </tr>\n",
       "  </tbody>\n",
       "</table>"
      ],
      "text/plain": [
       "<IPython.core.display.HTML object>"
      ]
     },
     "metadata": {},
     "output_type": "display_data"
    }
   ],
   "source": [
    "plotting.show_perf_stats(returns)"
   ]
  },
  {
   "cell_type": "code",
   "execution_count": 49,
   "metadata": {},
   "outputs": [],
   "source": [
    "returns_2018 = returns.iloc[1090:]"
   ]
  },
  {
   "cell_type": "code",
   "execution_count": 50,
   "metadata": {},
   "outputs": [
    {
     "data": {
      "text/html": [
       "<table border=\"1\" class=\"dataframe\">\n",
       "  <thead>\n",
       "    <tr style=\"text-align: right;\"><th>Start date</th><td colspan=2>2017-03-10</td></tr>\n",
       "    <tr style=\"text-align: right;\"><th>End date</th><td colspan=2>2019-12-09</td></tr>\n",
       "    <tr style=\"text-align: right;\"><th>Total months</th><td colspan=2>32</td></tr>\n",
       "    <tr style=\"text-align: right;\">\n",
       "      <th></th>\n",
       "      <th>Backtest</th>\n",
       "    </tr>\n",
       "  </thead>\n",
       "  <tbody>\n",
       "    <tr>\n",
       "      <th>Annual return</th>\n",
       "      <td>38.3%</td>\n",
       "    </tr>\n",
       "    <tr>\n",
       "      <th>Cumulative returns</th>\n",
       "      <td>143.1%</td>\n",
       "    </tr>\n",
       "    <tr>\n",
       "      <th>Annual volatility</th>\n",
       "      <td>15.4%</td>\n",
       "    </tr>\n",
       "    <tr>\n",
       "      <th>Sharpe ratio</th>\n",
       "      <td>2.18</td>\n",
       "    </tr>\n",
       "    <tr>\n",
       "      <th>Calmar ratio</th>\n",
       "      <td>2.23</td>\n",
       "    </tr>\n",
       "    <tr>\n",
       "      <th>Stability</th>\n",
       "      <td>0.87</td>\n",
       "    </tr>\n",
       "    <tr>\n",
       "      <th>Max drawdown</th>\n",
       "      <td>-17.1%</td>\n",
       "    </tr>\n",
       "    <tr>\n",
       "      <th>Omega ratio</th>\n",
       "      <td>1.43</td>\n",
       "    </tr>\n",
       "    <tr>\n",
       "      <th>Sortino ratio</th>\n",
       "      <td>3.17</td>\n",
       "    </tr>\n",
       "    <tr>\n",
       "      <th>Skew</th>\n",
       "      <td>-0.60</td>\n",
       "    </tr>\n",
       "    <tr>\n",
       "      <th>Kurtosis</th>\n",
       "      <td>2.10</td>\n",
       "    </tr>\n",
       "    <tr>\n",
       "      <th>Tail ratio</th>\n",
       "      <td>1.01</td>\n",
       "    </tr>\n",
       "    <tr>\n",
       "      <th>Daily value at risk</th>\n",
       "      <td>-1.8%</td>\n",
       "    </tr>\n",
       "  </tbody>\n",
       "</table>"
      ],
      "text/plain": [
       "<IPython.core.display.HTML object>"
      ]
     },
     "metadata": {},
     "output_type": "display_data"
    }
   ],
   "source": [
    "plotting.show_perf_stats(returns_2018)"
   ]
  },
  {
   "cell_type": "code",
   "execution_count": 51,
   "metadata": {},
   "outputs": [],
   "source": [
    "VNINDEX = pd.read_excel('C:\\\\Users\\\\Win 10\\\\Desktop\\\\Risk_Parity_1211\\\\VNINDEX.xls', index_col='DATE')\n",
    "VNINDEX = VNINDEX.rename({'CLOSE':'VNINDEX'}, axis=1)\n",
    "VNINDEX = VNINDEX.iloc[:,4].pct_change(1)\n",
    "VNINDEX.index = pd.to_datetime(VNINDEX.index).tz_localize('UTC')"
   ]
  },
  {
   "cell_type": "code",
   "execution_count": 52,
   "metadata": {},
   "outputs": [
    {
     "data": {
      "text/plain": [
       "DATE\n",
       "2014-01-02 00:00:00+00:00         NaN\n",
       "2014-01-03 00:00:00+00:00    0.001705\n",
       "2014-01-06 00:00:00+00:00    0.007381\n",
       "2014-01-07 00:00:00+00:00    0.002004\n",
       "2014-01-08 00:00:00+00:00    0.007410\n",
       "2014-01-09 00:00:00+00:00    0.005993\n",
       "2014-01-10 00:00:00+00:00    0.003791\n",
       "2014-01-13 00:00:00+00:00    0.004182\n",
       "2014-01-14 00:00:00+00:00    0.002303\n",
       "2014-01-15 00:00:00+00:00    0.008367\n",
       "2014-01-16 00:00:00+00:00    0.013025\n",
       "2014-01-17 00:00:00+00:00    0.018836\n",
       "2014-01-20 00:00:00+00:00    0.018543\n",
       "2014-01-21 00:00:00+00:00    0.011270\n",
       "2014-01-22 00:00:00+00:00   -0.014270\n",
       "2014-01-23 00:00:00+00:00    0.002953\n",
       "2014-01-24 00:00:00+00:00    0.011995\n",
       "2014-01-27 00:00:00+00:00   -0.006551\n",
       "2014-02-06 00:00:00+00:00   -0.003306\n",
       "2014-02-07 00:00:00+00:00   -0.008870\n",
       "2014-02-10 00:00:00+00:00    0.011169\n",
       "2014-02-11 00:00:00+00:00   -0.003598\n",
       "2014-02-12 00:00:00+00:00    0.018686\n",
       "2014-02-13 00:00:00+00:00    0.010510\n",
       "2014-02-14 00:00:00+00:00    0.003578\n",
       "2014-02-17 00:00:00+00:00   -0.003530\n",
       "2014-02-18 00:00:00+00:00    0.007646\n",
       "2014-02-19 00:00:00+00:00    0.006196\n",
       "2014-02-20 00:00:00+00:00   -0.012247\n",
       "2014-02-21 00:00:00+00:00   -0.000823\n",
       "                               ...   \n",
       "2019-08-30 00:00:00+00:00    0.005590\n",
       "2019-09-03 00:00:00+00:00   -0.004776\n",
       "2019-09-04 00:00:00+00:00   -0.001766\n",
       "2019-09-05 00:00:00+00:00   -0.000859\n",
       "2019-09-06 00:00:00+00:00   -0.002774\n",
       "2019-09-09 00:00:00+00:00    0.000041\n",
       "2019-09-10 00:00:00+00:00   -0.003963\n",
       "2019-09-11 00:00:00+00:00   -0.000979\n",
       "2019-09-12 00:00:00+00:00    0.006974\n",
       "2019-09-13 00:00:00+00:00    0.011423\n",
       "2019-09-16 00:00:00+00:00    0.002674\n",
       "2019-09-17 00:00:00+00:00    0.006950\n",
       "2019-09-18 00:00:00+00:00   -0.001595\n",
       "2019-09-19 00:00:00+00:00    0.001960\n",
       "2019-09-20 00:00:00+00:00   -0.006760\n",
       "2019-09-23 00:00:00+00:00   -0.004655\n",
       "2019-09-24 00:00:00+00:00    0.002414\n",
       "2019-09-25 00:00:00+00:00   -0.000840\n",
       "2019-09-26 00:00:00+00:00    0.003494\n",
       "2019-09-27 00:00:00+00:00    0.007156\n",
       "2019-09-30 00:00:00+00:00   -0.001283\n",
       "2019-10-02 00:00:00+00:00   -0.005389\n",
       "2019-10-03 00:00:00+00:00    0.001271\n",
       "2019-10-04 00:00:00+00:00   -0.004897\n",
       "2019-10-07 00:00:00+00:00   -0.004557\n",
       "2019-10-08 00:00:00+00:00    0.005218\n",
       "2019-10-09 00:00:00+00:00   -0.000395\n",
       "2019-10-10 00:00:00+00:00   -0.000456\n",
       "2019-10-11 00:00:00+00:00    0.004517\n",
       "2019-10-14 00:00:00+00:00    0.001744\n",
       "Name: VNINDEX, Length: 1360, dtype: float64"
      ]
     },
     "execution_count": 52,
     "metadata": {},
     "output_type": "execute_result"
    }
   ],
   "source": [
    "VNINDEX"
   ]
  },
  {
   "cell_type": "code",
   "execution_count": 53,
   "metadata": {},
   "outputs": [
    {
     "data": {
      "text/plain": [
       "<matplotlib.axes._subplots.AxesSubplot at 0x222920e3128>"
      ]
     },
     "execution_count": 53,
     "metadata": {},
     "output_type": "execute_result"
    },
    {
     "data": {
      "image/png": "[encoded data removed]",
      "text/plain": [
       "<Figure size 432x288 with 1 Axes>"
      ]
     },
     "metadata": {
      "needs_background": "light"
     },
     "output_type": "display_data"
    }
   ],
   "source": [
    "plotting.plot_rolling_returns(returns, factor_returns=VNINDEX)"
   ]
  },
  {
   "cell_type": "code",
   "execution_count": 54,
   "metadata": {},
   "outputs": [],
   "source": [
    "import matplotlib.pyplot as plt"
   ]
  },
  {
   "cell_type": "code",
   "execution_count": 56,
   "metadata": {},
   "outputs": [
    {
     "data": {
      "text/plain": [
       "[<matplotlib.lines.Line2D at 0x22292813f98>]"
      ]
     },
     "execution_count": 56,
     "metadata": {},
     "output_type": "execute_result"
    },
    {
     "data": {
      "image/png": "[encoded data removed]",
      "text/plain": [
       "<Figure size 432x288 with 1 Axes>"
      ]
     },
     "metadata": {
      "needs_background": "light"
     },
     "output_type": "display_data"
    }
   ],
   "source": [
    "plt.plot(returns)"
   ]
  },
  {
   "cell_type": "code",
   "execution_count": null,
   "metadata": {},
   "outputs": [],
   "source": []
  }
 ],
 "metadata": {
  "kernelspec": {
   "display_name": "Python 3",
   "language": "python",
   "name": "python3"
  },
  "language_info": {
   "codemirror_mode": {
    "name": "ipython",
    "version": 3
   },
   "file_extension": ".py",
   "mimetype": "text/x-python",
   "name": "python",
   "nbconvert_exporter": "python",
   "pygments_lexer": "ipython3",
   "version": "3.7.3"
  }
 },
 "nbformat": 4,
 "nbformat_minor": 2
}
